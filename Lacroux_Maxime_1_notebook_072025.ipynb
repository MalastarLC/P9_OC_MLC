{
 "cells": [
  {
   "cell_type": "markdown",
   "id": "b5d7fe72",
   "metadata": {},
   "source": [
    "Chaine de prétraitement des données"
   ]
  },
  {
   "cell_type": "markdown",
   "id": "17e63c98",
   "metadata": {},
   "source": []
  }
 ],
 "metadata": {
  "language_info": {
   "name": "python"
  }
 },
 "nbformat": 4,
 "nbformat_minor": 5
}
